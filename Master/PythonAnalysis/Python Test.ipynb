{
 "cells": [
  {
   "cell_type": "code",
   "execution_count": 35,
   "metadata": {},
   "outputs": [
    {
     "ename": "ModuleNotFoundError",
     "evalue": "No module named 'single'",
     "output_type": "error",
     "traceback": [
      "\u001b[1;31m---------------------------------------------------------------------------\u001b[0m",
      "\u001b[1;31mModuleNotFoundError\u001b[0m                       Traceback (most recent call last)",
      "\u001b[1;32m<ipython-input-35-32909e572bac>\u001b[0m in \u001b[0;36m<module>\u001b[1;34m()\u001b[0m\n\u001b[0;32m      1\u001b[0m \u001b[1;32mimport\u001b[0m \u001b[0mos\u001b[0m\u001b[1;33m\u001b[0m\u001b[0m\n\u001b[0;32m      2\u001b[0m \u001b[0mos\u001b[0m\u001b[1;33m.\u001b[0m\u001b[0mchdir\u001b[0m\u001b[1;33m(\u001b[0m\u001b[1;34m\"E:\\Honours\\Master\\Scapers\\Account-Scraper\"\u001b[0m\u001b[1;33m)\u001b[0m\u001b[1;33m\u001b[0m\u001b[0m\n\u001b[1;32m----> 3\u001b[1;33m \u001b[1;32mfrom\u001b[0m \u001b[0msingle\u001b[0m \u001b[1;32mimport\u001b[0m \u001b[0mget_all_tweets\u001b[0m\u001b[1;33m\u001b[0m\u001b[0m\n\u001b[0m",
      "\u001b[1;31mModuleNotFoundError\u001b[0m: No module named 'single'"
     ]
    }
   ],
   "source": [
    "import os\n",
    "os.chdir(\"E:\\Honours\\Master\\Scapers\\Account-Scraper\")\n",
    "from single import get_all_tweets"
   ]
  },
  {
   "cell_type": "code",
   "execution_count": 36,
   "metadata": {},
   "outputs": [],
   "source": [
    "import tweepy #https://github.com/tweepy/tweepy\n",
    "import csv\n",
    "import time\n",
    "\n",
    "\n",
    "\n",
    "#Twitter API credentials\n",
    "consumer_key = \"TC98w89JxQK2v4vPEqLLxJLx0\"\n",
    "consumer_secret = \"le4t2JCgoT3CBZwToaKdOJx5LFYDDkGL5e3Pjl2ZtfTqYV46Fs\"\n",
    "access_key = \"4459846396-tU9aYf4E5r9eHhJnniU7OsyrLNJhzEd4cpVeFFe\"\n",
    "access_secret = \"UaY6kpdXbdV7cAsAxrKLzFTkKSLtW8dcNTe1CYniUl6xM\"\n",
    "\n",
    "\n",
    "\n",
    "def get_all_tweets(screen_name):\n",
    "    #Twitter only allows access to a users most recent 3240 tweets with this method\n",
    "\n",
    "    #authorize twitter, initialize tweepy\n",
    "    auth = tweepy.OAuthHandler(consumer_key, consumer_secret)\n",
    "    auth.set_access_token(access_key, access_secret)\n",
    "    api = tweepy.API(auth)\n",
    "\n",
    "    #initialize a list to hold all the tweepy Tweets\n",
    "    alltweets = []\n",
    "\n",
    "    #make initial request for most recent tweets (200 is the maximum allowed count)\n",
    "    new_tweets = api.user_timeline(screen_name = screen_name,count=200)\n",
    "\n",
    "    #save most recent tweets\n",
    "    alltweets.extend(new_tweets)\n",
    "\n",
    "    #save the id of the oldest tweet less one\n",
    "    oldest = alltweets[-1].id - 1\n",
    "\n",
    "    #keep grabbing tweets until there are no tweets left to grab\n",
    "    while len(new_tweets) > 0:\n",
    "        print(\"getting tweets before %s\" % (oldest))\n",
    "\n",
    "        #all subsiquent requests use the max_id param to prevent duplicates\n",
    "        new_tweets = api.user_timeline(screen_name = screen_name,count=200,max_id=oldest)\n",
    "\n",
    "        #save most recent tweets\n",
    "        alltweets.extend(new_tweets)\n",
    "\n",
    "        #update the id of the oldest tweet less one\n",
    "        oldest = alltweets[-1].id - 1\n",
    "\n",
    "        print(\"...%s tweets downloaded so far\" % (len(alltweets)))\n",
    "\n",
    "    #transform the tweepy tweets into a 2D array that will populate the csv\n",
    "\n",
    "\n",
    "\n",
    "    outtweets = []\n",
    "    for tweet in alltweets:\n",
    "        media_count = 0\n",
    "        url_count =0\n",
    "        if \"media\" in tweet.entities:\n",
    "            media_count =1\n",
    "        if \"urls\" in tweet.entities:\n",
    "            url_count =len(tweet.entities[\"urls\"])\n",
    "        outtweets.append([tweet.id_str, tweet.created_at, tweet.text.encode(\"utf-8\"),tweet.retweet_count,tweet.favorite_count,media_count,url_count])\n",
    "\n",
    "    #write the csv\n",
    "    with open(screen_name + '.csv', 'w') as f:\n",
    "        writer = csv.writer(f)\n",
    "        writer.writerow([\"id\",\"created_at\",\"text\",\"retweet_count\",\"favorite_count\",\"media_count\",\"url_count\"])\n",
    "        writer.writerows(outtweets)\n",
    "\n",
    "    pass\n"
   ]
  },
  {
   "cell_type": "code",
   "execution_count": 37,
   "metadata": {},
   "outputs": [
    {
     "name": "stdout",
     "output_type": "stream",
     "text": [
      "getting tweets before 308939322034368511\n",
      "...396 tweets downloaded so far\n",
      "getting tweets before 213597716075393023\n",
      "...596 tweets downloaded so far\n",
      "getting tweets before 154935904992104448\n",
      "...610 tweets downloaded so far\n",
      "getting tweets before 3184693759\n",
      "...610 tweets downloaded so far\n"
     ]
    }
   ],
   "source": [
    "get_all_tweets(\"liam2404\")"
   ]
  },
  {
   "cell_type": "code",
   "execution_count": null,
   "metadata": {},
   "outputs": [],
   "source": []
  }
 ],
 "metadata": {
  "kernelspec": {
   "display_name": "Python 3",
   "language": "python",
   "name": "python3"
  },
  "language_info": {
   "codemirror_mode": {
    "name": "ipython",
    "version": 3
   },
   "file_extension": ".py",
   "mimetype": "text/x-python",
   "name": "python",
   "nbconvert_exporter": "python",
   "pygments_lexer": "ipython3",
   "version": "3.6.5"
  }
 },
 "nbformat": 4,
 "nbformat_minor": 2
}
