{
 "cells": [
  {
   "cell_type": "code",
   "execution_count": 14,
   "metadata": {},
   "outputs": [
    {
     "name": "stderr",
     "output_type": "stream",
     "text": [
      "C:\\Anaconda\\lib\\site-packages\\ipykernel_launcher.py:8: FutureWarning: from_csv is deprecated. Please use read_csv(...) instead. Note that some of the default arguments are different, so please refer to the documentation for from_csv when changing your function calls\n",
      "  \n"
     ]
    }
   ],
   "source": [
    "import pandas, os, collections\n",
    "from sklearn.feature_extraction.text import CountVectorizer\n",
    "from sklearn.model_selection import train_test_split\n",
    "from sklearn.linear_model import LogisticRegression\n",
    "\n",
    "os.chdir(\"E:\\Honours\\Master\\Twitter-Learning-Data\\Collections\")\n",
    "\n",
    "BritishDF = pandas.DataFrame.from_csv(\"BritishCollection.csv\")"
   ]
  },
  {
   "cell_type": "code",
   "execution_count": 15,
   "metadata": {
    "scrolled": false
   },
   "outputs": [
    {
     "data": {
      "text/plain": [
       "CountVectorizer(analyzer='word', binary=False, decode_error='strict',\n",
       "        dtype=<class 'numpy.int64'>, encoding='utf-8', input='content',\n",
       "        lowercase=False, max_df=1.0, max_features=None, min_df=0,\n",
       "        ngram_range=(1, 1), preprocessor=None, stop_words=None,\n",
       "        strip_accents=None, token_pattern='(?u)\\\\b\\\\w\\\\w+\\\\b',\n",
       "        tokenizer=None, vocabulary=None)"
      ]
     },
     "execution_count": 15,
     "metadata": {},
     "output_type": "execute_result"
    }
   ],
   "source": [
    "vectorizer = CountVectorizer(min_df=0, lowercase=False)\n",
    "\n",
    "vectorizer.fit(BritishDF['text'])\n"
   ]
  },
  {
   "cell_type": "code",
   "execution_count": 69,
   "metadata": {},
   "outputs": [
    {
     "name": "stdout",
     "output_type": "stream",
     "text": [
      "Accuracy: 0.5656822899787154\n"
     ]
    }
   ],
   "source": [
    "sentences = BritishDF['text'].values\n",
    "y = BritishDF['Alignment'].values\n",
    "\n",
    "sentences_train, sentences_test, y_train, y_test = train_test_split(\n",
    "    sentences, y, test_size=0.99, random_state=1000)\n",
    "\n",
    "vectorizer = CountVectorizer()\n",
    "vectorizer.fit(sentences_train)\n",
    "\n",
    "X_train = vectorizer.transform(sentences_train)\n",
    "X_test  = vectorizer.transform(sentences_test)\n",
    "X_train\n",
    "\n",
    "classifier = LogisticRegression()\n",
    "classifier.fit(X_train, y_train)\n",
    "score = classifier.score(X_test, y_test)\n",
    "\n",
    "print(\"Accuracy:\", score)"
   ]
  },
  {
   "cell_type": "code",
   "execution_count": 80,
   "metadata": {},
   "outputs": [
    {
     "name": "stdout",
     "output_type": "stream",
     "text": [
      "Accuracy: 0.7636547577754653\n"
     ]
    }
   ],
   "source": [
    "sentences = BritishDF['text'].values\n",
    "y = BritishDF['Alignment'].values\n",
    "\n",
    "sentences_train, sentences_test, y_train, y_test = train_test_split(\n",
    "    sentences, y, test_size=0.75, random_state=1000)\n",
    "\n",
    "vectorizer2 = CountVectorizer()\n",
    "vectorizer2.fit(sentences_train)\n",
    "\n",
    "X_train = vectorizer2.transform(sentences_train)\n",
    "X_test  = vectorizer2.transform(sentences_test)\n",
    "X_train\n",
    "\n",
    "classifier2 = LogisticRegression()\n",
    "classifier2.fit(X_train, y_train)\n",
    "score = classifier2.score(X_test, y_test)\n",
    "\n",
    "print(\"Accuracy:\", score)"
   ]
  },
  {
   "cell_type": "code",
   "execution_count": 87,
   "metadata": {},
   "outputs": [
    {
     "name": "stderr",
     "output_type": "stream",
     "text": [
      "C:\\Anaconda\\lib\\site-packages\\ipykernel_launcher.py:5: FutureWarning: from_csv is deprecated. Please use read_csv(...) instead. Note that some of the default arguments are different, so please refer to the documentation for from_csv when changing your function calls\n",
      "  \"\"\"\n"
     ]
    }
   ],
   "source": [
    "#Change directory to the raw data for testing\n",
    "os.chdir(\"E:\\Honours\\Master\\Twitter-User-Data\\Raw\")\n",
    "#Import user data\n",
    "Username = \"cat\"\n",
    "UserData = pandas.DataFrame.from_csv(Username + \".csv\")"
   ]
  },
  {
   "cell_type": "code",
   "execution_count": 88,
   "metadata": {},
   "outputs": [
    {
     "name": "stdout",
     "output_type": "stream",
     "text": [
      "Counter({'Non-Aligned': 1268, 'Labour': 284, 'SNP': 186, 'LibDem': 142, 'Green': 109, 'Conservative': 60, 'UKIP': 17, 'DUP': 10})\n"
     ]
    }
   ],
   "source": [
    "#Vectorize the text\n",
    "UserDataV1 = vectorizer.transform(UserData.text)\n",
    "#Perform prediction of text inputted\n",
    "Classifications = classifier.predict(UserDataV1)\n",
    "#Output a basic overview of the predictions\n",
    "print(collections.Counter(Classifications))\n",
    "#Append original data with model classification\n",
    "UserData[\"Classification\"] = Classifications\n"
   ]
  },
  {
   "cell_type": "code",
   "execution_count": 89,
   "metadata": {},
   "outputs": [
    {
     "name": "stdout",
     "output_type": "stream",
     "text": [
      "Counter({'Non-Aligned': 1130, 'Labour': 279, 'SNP': 190, 'LibDem': 178, 'Conservative': 158, 'Green': 93, 'UKIP': 39, 'DUP': 9})\n"
     ]
    }
   ],
   "source": [
    "#Perform prediction of text inputted\n",
    "UserDataV2 = vectorizer2.transform(UserData.text)\n",
    "Classifications2 = classifier2.predict(UserDataV2)\n",
    "#Output a basic overview of the predictions\n",
    "print(collections.Counter(Classifications2))\n",
    "#Append original data with model classification\n",
    "UserData[\"Classification2\"] = Classifications2\n",
    "\n",
    "#Change directory to the classifications directory for saving\n",
    "os.chdir(\"E:\\Honours\\Master\\Twitter-User-Data\\Classifications\")\n",
    "#Save Classifications to classificaiton directory\n",
    "UserData.to_csv(Username + \"-Classification.csv\", encoding='utf-8')"
   ]
  },
  {
   "cell_type": "code",
   "execution_count": 90,
   "metadata": {},
   "outputs": [
    {
     "data": {
      "text/plain": [
       "Counter({'Non-Aligned': 1268,\n",
       "         'Labour': 284,\n",
       "         'Green': 109,\n",
       "         'LibDem': 142,\n",
       "         'SNP': 186,\n",
       "         'Conservative': 60,\n",
       "         'UKIP': 17,\n",
       "         'DUP': 10})"
      ]
     },
     "execution_count": 90,
     "metadata": {},
     "output_type": "execute_result"
    }
   ],
   "source": [
    "collections.Counter(Classifications)"
   ]
  },
  {
   "cell_type": "code",
   "execution_count": 91,
   "metadata": {},
   "outputs": [
    {
     "data": {
      "text/plain": [
       "Counter({'Non-Aligned': 1130,\n",
       "         'SNP': 190,\n",
       "         'LibDem': 178,\n",
       "         'Green': 93,\n",
       "         'Conservative': 158,\n",
       "         'Labour': 279,\n",
       "         'UKIP': 39,\n",
       "         'DUP': 9})"
      ]
     },
     "execution_count": 91,
     "metadata": {},
     "output_type": "execute_result"
    }
   ],
   "source": [
    "collections.Counter(Classifications2)"
   ]
  },
  {
   "cell_type": "code",
   "execution_count": 92,
   "metadata": {},
   "outputs": [
    {
     "name": "stdout",
     "output_type": "stream",
     "text": [
      "something Changed\n"
     ]
    }
   ],
   "source": [
    "if collections.Counter(Classifications2) == collections.Counter(Classifications):\n",
    "    print(\"Same Result\")\n",
    "else:\n",
    "    print(Classifications[])"
   ]
  },
  {
   "cell_type": "code",
   "execution_count": 104,
   "metadata": {},
   "outputs": [
    {
     "ename": "AttributeError",
     "evalue": "'numpy.ndarray' object has no attribute 'get'",
     "output_type": "error",
     "traceback": [
      "\u001b[1;31m---------------------------------------------------------------------------\u001b[0m",
      "\u001b[1;31mAttributeError\u001b[0m                            Traceback (most recent call last)",
      "\u001b[1;32m<ipython-input-104-affb378568f7>\u001b[0m in \u001b[0;36m<module>\u001b[1;34m()\u001b[0m\n\u001b[1;32m----> 1\u001b[1;33m \u001b[0mClassifications\u001b[0m\u001b[1;33m.\u001b[0m\u001b[0mget\u001b[0m\u001b[1;33m(\u001b[0m\u001b[1;34m\"Labour\"\u001b[0m\u001b[1;33m)\u001b[0m\u001b[1;33m\u001b[0m\u001b[0m\n\u001b[0m",
      "\u001b[1;31mAttributeError\u001b[0m: 'numpy.ndarray' object has no attribute 'get'"
     ]
    }
   ],
   "source": [
    "Classifications.get(\"Labour\")"
   ]
  },
  {
   "cell_type": "code",
   "execution_count": 57,
   "metadata": {},
   "outputs": [
    {
     "data": {
      "text/plain": [
       "array(['UKIP'], dtype=object)"
      ]
     },
     "execution_count": 57,
     "metadata": {},
     "output_type": "execute_result"
    }
   ],
   "source": [
    "Sentence = vectorizer.transform([\"I hate the EU\"])\n",
    "classifier.predict(Sentence)\n",
    "classifier2.predict(Sentence)"
   ]
  }
 ],
 "metadata": {
  "kernelspec": {
   "display_name": "Python 3",
   "language": "python",
   "name": "python3"
  },
  "language_info": {
   "codemirror_mode": {
    "name": "ipython",
    "version": 3
   },
   "file_extension": ".py",
   "mimetype": "text/x-python",
   "name": "python",
   "nbconvert_exporter": "python",
   "pygments_lexer": "ipython3",
   "version": "3.6.5"
  }
 },
 "nbformat": 4,
 "nbformat_minor": 2
}
